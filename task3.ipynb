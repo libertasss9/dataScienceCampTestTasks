{
 "cells": [
  {
   "cell_type": "code",
   "execution_count": 4,
   "metadata": {},
   "outputs": [],
   "source": [
    "#initial data\n",
    "tests = [\"h\", \"t\", \"h\", \"h\", \"h\", \"t\", \"t\", \"h\", \"h\"]\n",
    "\n",
    "m_probs = [0.8, 0.9, 0.1, 0.2, 0.3]\n",
    "mh_probs = [0.2, 0.2, 0.2, 0.2, 0.2]"
   ]
  },
  {
   "cell_type": "code",
   "execution_count": 5,
   "metadata": {},
   "outputs": [],
   "source": [
    "#using bayer's theorema\n",
    "#P(mi|H) = (P(H|mi) * P(mi)) / P(H)\n",
    "#P(mi|T) = ((1 - P(H|mi)) * P(mi)) / (1 - P(H))\n",
    "#where P(mi|T) stored at mh_probs\n",
    "#P(H|mi) at m_probs\n",
    "#P(H) - at total prob\n",
    "\n",
    "def prob_of_flipping(m_probs, mh_probs, tests):\n",
    "    result = []\n",
    "    total_prob = 0.46\n",
    "\n",
    "    for test in tests:\n",
    "        for i in range(len(m_probs)):\n",
    "            mh_probs[i] = (m_probs[i] * mh_probs[i]) / total_prob if test == \"h\" else ((1 - m_probs[i]) * mh_probs[i]) / (1 - total_prob)\n",
    "        \n",
    "        total_prob = sum(m_probs[i] * mh_probs[i] for i in range(len(m_probs)))\n",
    "        result.append(round(total_prob, 2))\n",
    "    \n",
    "    return result\n",
    "              \n"
   ]
  },
  {
   "cell_type": "code",
   "execution_count": 6,
   "metadata": {},
   "outputs": [
    {
     "name": "stdout",
     "output_type": "stream",
     "text": [
      "[0.69, 0.44, 0.64, 0.77, 0.82, 0.73, 0.55, 0.69, 0.77]\n"
     ]
    }
   ],
   "source": [
    "print(prob_of_flipping(m_probs, mh_probs, tests))"
   ]
  }
 ],
 "metadata": {
  "kernelspec": {
   "display_name": "Python 3",
   "language": "python",
   "name": "python3"
  },
  "language_info": {
   "codemirror_mode": {
    "name": "ipython",
    "version": 3
   },
   "file_extension": ".py",
   "mimetype": "text/x-python",
   "name": "python",
   "nbconvert_exporter": "python",
   "pygments_lexer": "ipython3",
   "version": "3.13.2"
  }
 },
 "nbformat": 4,
 "nbformat_minor": 2
}
